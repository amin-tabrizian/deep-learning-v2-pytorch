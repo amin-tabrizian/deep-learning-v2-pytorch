{
 "cells": [
  {
   "cell_type": "markdown",
   "metadata": {},
   "source": [
    "# Neural networks with PyTorch\n",
    "\n",
    "Deep learning networks tend to be massive with dozens or hundreds of layers, that's where the term \"deep\" comes from. You can build one of these deep networks using only weight matrices as we did in the previous notebook, but in general it's very cumbersome and difficult to implement. PyTorch has a nice module `nn` that provides a nice way to efficiently build large neural networks."
   ]
  },
  {
   "cell_type": "code",
   "execution_count": 1,
   "metadata": {},
   "outputs": [],
   "source": [
    "# Import necessary packages\n",
    "\n",
    "%matplotlib inline\n",
    "%config InlineBackend.figure_format = 'retina'\n",
    "\n",
    "import numpy as np\n",
    "import torch\n",
    "\n",
    "import helper\n",
    "\n",
    "import matplotlib.pyplot as plt"
   ]
  },
  {
   "cell_type": "markdown",
   "metadata": {},
   "source": [
    "\n",
    "Now we're going to build a larger network that can solve a (formerly) difficult problem, identifying text in an image. Here we'll use the MNIST dataset which consists of greyscale handwritten digits. Each image is 28x28 pixels, you can see a sample below\n",
    "\n",
    "<img src='assets/mnist.png'>\n",
    "\n",
    "Our goal is to build a neural network that can take one of these images and predict the digit in the image.\n",
    "\n",
    "First up, we need to get our dataset. This is provided through the `torchvision` package. The code below will download the MNIST dataset, then create training and test datasets for us. Don't worry too much about the details here, you'll learn more about this later."
   ]
  },
  {
   "cell_type": "code",
   "execution_count": 2,
   "metadata": {},
   "outputs": [],
   "source": [
    "# The MNIST datasets are hosted on yann.lecun.com that has moved under CloudFlare protection\n",
    "# Run this script to enable the datasets download\n",
    "# Reference: https://github.com/pytorch/vision/issues/1938\n",
    "\n",
    "from six.moves import urllib\n",
    "opener = urllib.request.build_opener()\n",
    "opener.addheaders = [('User-agent', 'Mozilla/5.0')]\n",
    "urllib.request.install_opener(opener)"
   ]
  },
  {
   "cell_type": "code",
   "execution_count": 3,
   "metadata": {},
   "outputs": [],
   "source": [
    "### Run this cell\n",
    "\n",
    "from torchvision import datasets, transforms\n",
    "\n",
    "# Define a transform to normalize the data\n",
    "transform = transforms.Compose([transforms.ToTensor(),\n",
    "                              transforms.Normalize((0.5,), (0.5,)),\n",
    "                              ])\n",
    "\n",
    "# Download and load the training data\n",
    "trainset = datasets.MNIST('~/.pytorch/MNIST_data/', download=True, train=True, transform=transform)\n",
    "trainloader = torch.utils.data.DataLoader(trainset, batch_size=64, shuffle=True)"
   ]
  },
  {
   "cell_type": "markdown",
   "metadata": {},
   "source": [
    "We have the training data loaded into `trainloader` and we make that an iterator with `iter(trainloader)`. Later, we'll use this to loop through the dataset for training, like\n",
    "\n",
    "```python\n",
    "for image, label in trainloader:\n",
    "    ## do things with images and labels\n",
    "```\n",
    "\n",
    "You'll notice I created the `trainloader` with a batch size of 64, and `shuffle=True`. The batch size is the number of images we get in one iteration from the data loader and pass through our network, often called a *batch*. And `shuffle=True` tells it to shuffle the dataset every time we start going through the data loader again. But here I'm just grabbing the first batch so we can check out the data. We can see below that `images` is just a tensor with size `(64, 1, 28, 28)`. So, 64 images per batch, 1 color channel, and 28x28 images."
   ]
  },
  {
   "cell_type": "code",
   "execution_count": 4,
   "metadata": {},
   "outputs": [
    {
     "name": "stdout",
     "output_type": "stream",
     "text": [
      "<class 'torch.Tensor'>\n",
      "torch.Size([64, 1, 28, 28])\n",
      "torch.Size([64])\n"
     ]
    }
   ],
   "source": [
    "dataiter = iter(trainloader)\n",
    "images, labels = dataiter.next()\n",
    "print(type(images))\n",
    "print(images.shape)\n",
    "print(labels.shape)"
   ]
  },
  {
   "cell_type": "markdown",
   "metadata": {},
   "source": [
    "This is what one of the images looks like. "
   ]
  },
  {
   "cell_type": "code",
   "execution_count": 5,
   "metadata": {},
   "outputs": [
    {
     "data": {
      "image/png": "[encoded data removed]",
      "text/plain": [
       "<Figure size 432x288 with 1 Axes>"
      ]
     },
     "metadata": {
      "image/png": {
       "height": 248,
       "width": 251
      },
      "needs_background": "light"
     },
     "output_type": "display_data"
    }
   ],
   "source": [
    "plt.imshow(images[10].numpy().squeeze(), cmap='Greys_r');"
   ]
  },
  {
   "cell_type": "markdown",
   "metadata": {},
   "source": [
    "First, let's try to build a simple network for this dataset using weight matrices and matrix multiplications. Then, we'll see how to do it using PyTorch's `nn` module which provides a much more convenient and powerful method for defining network architectures.\n",
    "\n",
    "The networks you've seen so far are called *fully-connected* or *dense* networks. Each unit in one layer is connected to each unit in the next layer. In fully-connected networks, the input to each layer must be a one-dimensional vector (which can be stacked into a 2D tensor as a batch of multiple examples). However, our images are 28x28 2D tensors, so we need to convert them into 1D vectors. Thinking about sizes, we need to convert the batch of images with shape `(64, 1, 28, 28)` to a have a shape of `(64, 784)`, 784 is 28 times 28. This is typically called *flattening*, we flattened the 2D images into 1D vectors.\n",
    "\n",
    "Previously you built a network with one output unit. Here we need 10 output units, one for each digit. We want our network to predict the digit shown in an image, so what we'll do is calculate probabilities that the image is of any one digit or class. This ends up being a discrete probability distribution over the classes (digits) that tells us the most likely class for the image. That means we need 10 output units for the 10 classes (digits). We'll see how to convert the network output into a probability distribution next.\n",
    "\n",
    "> **Exercise:** Flatten the batch of images `images`. Then build a multi-layer network with 784 input units, 256 hidden units, and 10 output units using random tensors for the weights and biases. For now, use a sigmoid activation for the hidden layer. Leave the output layer without an activation, we'll add one that gives us a probability distribution next."
   ]
  },
  {
   "cell_type": "code",
   "execution_count": 6,
   "metadata": {},
   "outputs": [
    {
     "name": "stdout",
     "output_type": "stream",
     "text": [
      "torch.Size([64, 10])\n"
     ]
    },
    {
     "data": {
      "text/plain": [
       "tensor([[-7.8970e+00,  1.6129e+01,  1.4714e+01, -1.9024e+01, -1.3811e+01,\n",
       "          1.7804e+00,  3.4046e+00, -6.4367e+00, -1.5458e+01,  4.0620e+00],\n",
       "        [-1.4361e+01, -3.0639e+00,  1.0860e+01, -2.4321e+01, -1.0806e+01,\n",
       "          1.1036e+01,  6.9612e+00,  6.0461e+00, -6.7507e+00,  1.2475e+00],\n",
       "        [-1.3998e+01, -6.6322e-02,  6.0919e+00, -2.5919e+01, -1.0009e+01,\n",
       "          3.6167e+00, -1.9211e+00, -2.9599e+00, -6.0903e+00, -9.8458e-01],\n",
       "        [-1.1903e+01,  3.5880e+00,  1.6938e+01, -1.8620e+01, -1.0495e+01,\n",
       "          4.5343e+00,  1.1503e+01, -9.9164e+00, -3.3621e+00,  1.2557e+01],\n",
       "        [-9.7264e+00,  1.1593e+00,  1.1858e+01, -2.7394e+01, -8.2914e+00,\n",
       "          1.2914e+01, -3.7243e+00,  5.6503e+00,  1.5170e+01,  3.3130e+00],\n",
       "        [-1.1013e+01,  9.0663e-01,  1.3869e+01, -1.9473e+01, -2.7077e+00,\n",
       "          7.7855e-01, -1.6672e+00, -1.3669e+00, -4.1427e+00, -1.5825e+00],\n",
       "        [-1.7853e+01,  1.8950e+00,  7.0775e-01, -2.7673e+01, -1.2284e+01,\n",
       "         -3.7235e+00,  2.6984e-01,  5.6501e+00,  3.4994e+00, -1.3138e+00],\n",
       "        [-7.0007e+00,  1.1721e+01,  8.8927e+00, -1.5473e+01, -1.1517e+01,\n",
       "         -4.8050e+00,  1.3750e-01,  3.4716e+00, -1.3487e+01,  2.5973e+00],\n",
       "        [-9.2904e+00,  2.4487e+00,  1.6721e+01, -2.2167e+01, -6.7246e+00,\n",
       "          4.0126e+00, -3.8469e+00, -1.0488e+01, -4.7600e-02,  9.0026e+00],\n",
       "        [-9.1828e+00,  1.1002e+01,  4.0413e+00, -2.2450e+01, -1.1867e+01,\n",
       "         -4.9457e+00,  1.7873e+00, -1.2049e+01, -5.9326e+00,  6.2995e+00],\n",
       "        [-1.1613e+01,  7.5016e+00,  1.2115e-01, -2.1753e+01, -1.8239e+00,\n",
       "         -1.7887e+00,  5.1818e+00, -1.1270e+01, -1.8160e+01,  2.1964e+00],\n",
       "        [-1.6229e+01,  7.2829e+00,  2.6241e+00, -1.2287e+01, -1.5702e+01,\n",
       "          1.3142e+01,  5.3918e+00, -2.5478e+00, -1.6093e+01,  3.8712e+00],\n",
       "        [-1.4491e+01, -3.8075e+00,  2.5162e+00, -2.2310e+01, -5.5880e+00,\n",
       "         -4.9490e+00, -3.7550e+00, -1.6451e+00, -5.6211e+00,  4.3658e+00],\n",
       "        [-1.3427e+01,  8.0346e-01,  7.9154e+00, -1.7608e+01, -6.6803e+00,\n",
       "          4.8528e+00, -3.5166e-02, -1.6742e+00, -5.0967e+00, -1.2805e-01],\n",
       "        [ 6.3698e+00,  9.7371e+00,  1.8351e+00, -1.9197e+01,  2.3665e+00,\n",
       "         -4.1478e-01,  5.8590e+00, -4.6661e+00, -6.7976e+00,  5.4879e+00],\n",
       "        [ 1.2780e+00,  7.7082e+00, -9.2860e-01, -2.3540e+01, -6.1092e+00,\n",
       "         -2.3844e+00,  6.4622e+00, -4.7429e-01, -1.9680e-01,  1.0266e+01],\n",
       "        [-3.0381e+00,  1.0199e+01,  8.6977e+00, -2.2884e+01, -7.2034e+00,\n",
       "         -3.0569e+00,  1.1416e+00, -5.0701e+00, -3.5250e+00, -1.1640e-01],\n",
       "        [-1.2429e+01,  7.2693e+00,  1.5891e+01, -2.0575e+01, -6.9649e+00,\n",
       "         -3.7289e+00, -4.2018e-01, -2.5164e+00, -6.0291e+00,  6.0546e+00],\n",
       "        [-8.8904e+00,  8.1877e+00, -4.7443e+00, -2.0666e+01, -1.4609e+01,\n",
       "         -2.9157e-01,  5.6261e+00,  9.5442e-01, -6.5715e+00,  2.6298e+00],\n",
       "        [-7.7611e+00,  6.7631e+00,  3.8282e+00, -1.6505e+01, -1.0118e+01,\n",
       "          9.5589e+00,  2.5639e+00, -2.8170e+00, -1.2722e+01,  2.2485e+00],\n",
       "        [-2.1096e+01, -3.2273e+00,  1.2152e-02, -1.7983e+01, -1.3507e+01,\n",
       "          2.7293e+00, -5.2603e+00,  6.9907e-01, -2.4167e-01,  8.1613e+00],\n",
       "        [-5.9110e+00, -3.1851e+00,  1.5739e+01, -2.3219e+01, -1.0302e+01,\n",
       "         -1.3297e+00, -4.5821e-02,  5.0779e+00, -7.8425e+00,  3.6233e+00],\n",
       "        [-6.0340e+00, -2.1476e+00,  1.2594e+01, -2.1037e+01, -6.0233e+00,\n",
       "          9.1809e+00, -3.4602e-02, -2.2996e+00,  3.5302e+00,  4.0025e+00],\n",
       "        [-1.2453e+01, -2.9105e+00,  1.7500e+01, -1.8189e+01, -7.0485e+00,\n",
       "          1.3936e+00, -4.7477e-02, -3.1178e-02,  3.8343e+00,  7.8085e+00],\n",
       "        [-1.2808e+01, -1.4756e+00,  1.1326e+01, -1.3832e+01, -9.0796e+00,\n",
       "          6.1979e+00,  2.3608e-01,  7.8701e+00,  8.8934e+00, -2.0107e+00],\n",
       "        [-1.1169e+01,  9.6780e+00,  1.6354e+01, -1.6639e+01, -1.1381e+01,\n",
       "         -2.8419e+00,  3.2525e+00, -7.3334e+00,  7.4099e+00,  6.7257e+00],\n",
       "        [-5.5190e+00,  6.1397e+00,  6.9059e+00, -2.6566e+01, -7.8822e+00,\n",
       "          3.1192e+00, -2.3218e+00, -3.8635e-02, -3.5030e+00,  8.6769e+00],\n",
       "        [-2.7776e+01,  4.1133e+00,  1.5083e+00, -1.7236e+01, -2.1804e+00,\n",
       "          4.2326e+00,  6.7833e+00, -9.5491e-01,  6.5316e+00,  7.9712e+00],\n",
       "        [-1.6547e+01, -1.7511e+00,  1.0279e+01, -1.0203e+01, -1.4757e+01,\n",
       "          1.2260e+01, -3.3973e+00, -1.2775e+01, -7.9386e+00,  5.1807e+00],\n",
       "        [-2.5484e+00,  7.1002e+00,  1.0671e+01, -2.1149e+01, -7.0330e+00,\n",
       "          5.6684e+00, -1.0029e+01, -1.1645e+01, -8.9373e+00,  1.1500e+01],\n",
       "        [-8.5679e+00,  1.0485e+01,  8.3282e+00, -1.7493e+01, -1.5273e+01,\n",
       "          7.2241e+00,  4.2533e+00,  1.8353e+00, -4.7028e+00,  5.3590e+00],\n",
       "        [-9.9851e+00,  4.4376e+00,  4.3383e+00, -1.7824e+01, -1.0434e+01,\n",
       "          7.2107e+00,  6.4929e+00, -1.0625e+01, -1.0535e+01,  7.1772e-01],\n",
       "        [-5.2767e+00, -3.6131e-01,  1.7199e+00, -1.7763e+01, -2.9637e+00,\n",
       "         -5.1216e+00,  1.9396e+00,  5.1809e+00, -4.6629e+00,  1.0506e+00],\n",
       "        [-1.5606e+01, -6.1515e+00,  1.3107e+00, -2.1256e+01, -1.1268e+01,\n",
       "          7.2548e+00, -7.6502e+00,  1.9403e+00, -2.8374e+00,  5.6809e+00],\n",
       "        [-4.7280e+00,  5.2174e+00,  9.0561e+00, -1.5359e+01, -1.0575e+01,\n",
       "          2.5379e+00,  1.9725e+00, -5.1711e-01, -3.8088e+00,  3.3370e+00],\n",
       "        [-1.0286e+01,  4.0702e+00,  1.1639e+01, -1.9499e+01, -8.3842e+00,\n",
       "          8.1645e+00,  4.4596e-01, -4.4290e+00,  2.2342e+00,  7.6573e-01],\n",
       "        [-8.5373e+00,  8.4622e+00,  1.0099e+01, -2.5696e+01, -3.9268e+00,\n",
       "          2.6475e+00,  2.6816e+00, -2.1325e+00, -7.5908e-01,  3.5495e+00],\n",
       "        [-1.4445e+01,  1.4272e-01,  1.6821e+01, -1.6962e+01, -7.5779e+00,\n",
       "          1.4814e-01, -1.9021e+00,  8.0119e-01,  3.6009e+00,  1.0585e+01],\n",
       "        [-1.1619e+01, -2.7705e+00,  2.4559e-01, -8.1190e+00, -1.2076e+01,\n",
       "         -7.5917e+00, -4.5554e-01, -5.2817e-02, -1.3471e+00,  7.9570e+00],\n",
       "        [-4.5561e+00,  1.1783e+01,  1.2501e+01, -1.3759e+01, -1.4955e+01,\n",
       "          5.1963e+00,  6.8617e+00, -1.8210e+01, -1.6181e+01,  6.7087e+00],\n",
       "        [-2.1603e+01, -6.7221e+00,  9.0136e+00, -1.9633e+01, -1.1006e+00,\n",
       "          3.7424e+00, -5.9724e+00, -7.9031e-01,  1.1420e+00,  4.4900e+00],\n",
       "        [-4.3609e+00,  4.2354e+00, -8.0904e-01, -2.4807e+01, -1.0330e+01,\n",
       "          5.5363e-01,  5.2106e+00, -5.0608e+00, -1.2261e+01,  2.8940e+00],\n",
       "        [-1.5736e+01, -1.1555e+00,  1.0800e+01, -1.7610e+01, -9.7917e+00,\n",
       "          2.0936e+00,  3.3182e+00, -1.8034e-01,  6.1845e+00,  2.7834e+00],\n",
       "        [-7.2169e+00,  9.6288e+00,  8.3998e+00, -2.0258e+01, -8.6473e+00,\n",
       "          1.4544e+00,  6.5595e-01, -1.3921e+01, -1.4633e+01, -5.5284e-02],\n",
       "        [-7.2331e+00,  1.2187e+01,  7.2334e+00, -3.2334e+01, -1.2906e+01,\n",
       "         -2.6373e+00, -9.0614e-01, -9.1955e+00, -1.0843e+01,  2.4838e+00],\n",
       "        [-1.9529e+01, -1.7014e+00,  6.6521e+00, -1.9147e+01, -6.2944e-01,\n",
       "         -6.5256e-01,  2.7825e+00, -5.0201e+00, -3.8061e+00,  1.1567e+01],\n",
       "        [-1.9239e+01,  5.2175e+00, -3.6164e+00, -2.6992e+01, -1.4379e+01,\n",
       "          2.3345e+00,  5.3142e+00, -1.3667e+00, -4.2552e+00,  1.8609e+00],\n",
       "        [-1.1233e+01,  1.1212e+01,  2.2469e+00, -3.0250e+01, -1.2518e+01,\n",
       "          5.9458e+00,  3.1211e+00, -7.2777e-01,  1.4438e+00,  2.3168e+00],\n",
       "        [-1.4254e+01,  8.5928e+00,  3.4582e+00, -1.6444e+01, -6.0719e+00,\n",
       "          4.3012e+00,  3.6059e-01, -5.1421e+00, -1.7493e+01, -9.8388e-01],\n",
       "        [-1.4749e+01, -4.7471e+00,  1.1773e+01, -2.0207e+01, -8.6991e+00,\n",
       "         -4.1498e+00,  6.4595e-01, -5.0987e+00, -1.8535e+00, -7.3387e-01],\n",
       "        [-6.2967e+00,  4.1632e+00,  1.2064e+01, -1.8927e+01, -1.5624e+01,\n",
       "          3.0542e+00,  1.3529e-02, -5.3892e+00, -6.5111e+00,  8.8524e+00],\n",
       "        [-1.6636e+01,  7.9134e+00,  8.1634e+00, -1.6222e+01, -6.8530e+00,\n",
       "          5.5704e-01, -8.8043e-01, -8.3364e+00, -1.8633e-01,  1.4119e+01],\n",
       "        [ 5.3761e-01,  5.4886e+00,  1.8087e+01, -1.8837e+01, -6.6934e+00,\n",
       "         -4.2193e-01, -2.0653e-01, -1.9784e+00, -1.5462e+01,  6.0398e+00],\n",
       "        [-1.4040e+01, -4.7578e-02,  1.6482e+01, -1.8677e+01, -5.2289e+00,\n",
       "          5.0469e+00, -5.9815e+00,  9.6414e+00,  5.3585e+00,  1.0013e+01],\n",
       "        [-3.2512e+01,  1.3025e+01,  3.5043e+00, -2.5500e+01, -6.8621e-01,\n",
       "          1.1562e+01,  1.5848e+01, -2.5713e+00,  1.3030e+01,  6.9220e+00],\n",
       "        [-1.1002e+01,  7.1399e+00,  1.8619e+00, -2.0020e+01, -1.8348e+01,\n",
       "          7.5898e-01,  7.9572e-01, -4.7995e+00,  1.0258e+00,  3.0069e+00],\n",
       "        [-8.3335e+00, -3.3499e-01,  1.4385e+01, -3.2450e+01, -1.0911e+01,\n",
       "          3.0214e+00,  1.3648e+00,  2.4150e+00,  5.6346e-01, -2.3950e+00],\n",
       "        [-1.9020e+01,  2.0432e+00, -5.7437e+00, -1.8939e+01,  1.9595e+00,\n",
       "         -1.6331e-01,  3.4761e+00,  1.0720e+01,  4.0480e+00,  1.0096e+00],\n",
       "        [-1.1674e+01,  2.2818e+00,  2.3772e+01, -1.4061e+01, -1.2055e+01,\n",
       "          4.3952e+00,  4.6182e+00, -9.4007e+00, -4.4324e+00,  9.2712e+00],\n",
       "        [-2.0074e+01, -3.7914e+00,  2.7080e+01, -1.5515e+01, -7.5158e+00,\n",
       "          2.7233e+01, -4.8619e+00,  4.7626e-02,  3.4548e+00,  3.4260e+00],\n",
       "        [-5.3173e+00,  6.0846e+00,  2.3415e+00, -1.2260e+01, -6.2508e+00,\n",
       "          1.3961e+00, -6.3906e+00, -1.2752e+01, -1.1181e+01,  7.6856e+00],\n",
       "        [-2.6336e+01, -7.4894e-01,  6.8218e+00, -1.9308e+01, -1.0843e+01,\n",
       "          6.8328e+00,  1.1113e+01,  1.1135e+01,  2.6513e+00,  1.2248e+01],\n",
       "        [-5.1022e+00,  1.7828e+00,  5.2399e+00, -1.8782e+01, -7.9038e+00,\n",
       "         -5.7346e+00,  8.2081e+00, -3.5677e+00, -1.6262e+01,  1.9255e+00],\n",
       "        [-1.8021e+01,  1.2733e+00,  1.4691e+01, -1.2720e+01, -1.6418e+01,\n",
       "          1.5755e+01,  1.1918e+00,  3.4883e+00, -1.1747e+01,  4.5058e+00]])"
      ]
     },
     "execution_count": 6,
     "metadata": {},
     "output_type": "execute_result"
    }
   ],
   "source": [
    "## Your solution\n",
    "def activation(x):\n",
    "    return 1/(1+torch.exp(-x))\n",
    "\n",
    "W1 = torch.randn(784, 256)\n",
    "W2 = torch.randn(256, 10)\n",
    "B1 = torch.randn(256)\n",
    "B2 = torch.randn(10)\n",
    "features = images.view(64, 784)\n",
    "h = activation(torch.mm(features, W1) + B1)\n",
    "out = torch.mm(h, W2) + B2# output of your network, should have shape (64,10)\n",
    "print(out.shape)\n",
    "out"
   ]
  },
  {
   "cell_type": "markdown",
   "metadata": {},
   "source": [
    "Now we have 10 outputs for our network. We want to pass in an image to our network and get out a probability distribution over the classes that tells us the likely class(es) the image belongs to. Something that looks like this:\n",
    "<img src='assets/image_distribution.png' width=500px>\n",
    "\n",
    "Here we see that the probability for each class is roughly the same. This is representing an untrained network, it hasn't seen any data yet so it just returns a uniform distribution with equal probabilities for each class.\n",
    "\n",
    "To calculate this probability distribution, we often use the [**softmax** function](https://en.wikipedia.org/wiki/Softmax_function). Mathematically this looks like\n",
    "\n",
    "$$\n",
    "\\Large \\sigma(x_i) = \\cfrac{e^{x_i}}{\\sum_k^K{e^{x_k}}}\n",
    "$$\n",
    "\n",
    "What this does is squish each input $x_i$ between 0 and 1 and normalizes the values to give you a proper probability distribution where the probabilites sum up to one.\n",
    "\n",
    "> **Exercise:** Implement a function `softmax` that performs the softmax calculation and returns probability distributions for each example in the batch. Note that you'll need to pay attention to the shapes when doing this. If you have a tensor `a` with shape `(64, 10)` and a tensor `b` with shape `(64,)`, doing `a/b` will give you an error because PyTorch will try to do the division across the columns (called broadcasting) but you'll get a size mismatch. The way to think about this is for each of the 64 examples, you only want to divide by one value, the sum in the denominator. So you need `b` to have a shape of `(64, 1)`. This way PyTorch will divide the 10 values in each row of `a` by the one value in each row of `b`. Pay attention to how you take the sum as well. You'll need to define the `dim` keyword in `torch.sum`. Setting `dim=0` takes the sum across the rows while `dim=1` takes the sum across the columns."
   ]
  },
  {
   "cell_type": "code",
   "execution_count": 7,
   "metadata": {},
   "outputs": [
    {
     "name": "stdout",
     "output_type": "stream",
     "text": [
      "torch.Size([64, 10])\n",
      "tensor([1.0000, 1.0000, 1.0000, 1.0000, 1.0000, 1.0000, 1.0000, 1.0000, 1.0000,\n",
      "        1.0000, 1.0000, 1.0000, 1.0000, 1.0000, 1.0000, 1.0000, 1.0000, 1.0000,\n",
      "        1.0000, 1.0000, 1.0000, 1.0000, 1.0000, 1.0000, 1.0000, 1.0000, 1.0000,\n",
      "        1.0000, 1.0000, 1.0000, 1.0000, 1.0000, 1.0000, 1.0000, 1.0000, 1.0000,\n",
      "        1.0000, 1.0000, 1.0000, 1.0000, 1.0000, 1.0000, 1.0000, 1.0000, 1.0000,\n",
      "        1.0000, 1.0000, 1.0000, 1.0000, 1.0000, 1.0000, 1.0000, 1.0000, 1.0000,\n",
      "        1.0000, 1.0000, 1.0000, 1.0000, 1.0000, 1.0000, 1.0000, 1.0000, 1.0000,\n",
      "        1.0000])\n"
     ]
    }
   ],
   "source": [
    "def softmax(x):\n",
    "    ## TODO: Implement the softmax function here\n",
    "    return torch.exp(x)/torch.sum(torch.exp(x), dim = 1).view(-1, 1)\n",
    "# Here, out should be the output of the network in the previous excercise with shape (64,10)\n",
    "probabilities = softmax(out)\n",
    "# Does it have the right shape? Should be (64, 10)\n",
    "print(probabilities.shape)\n",
    "# Does it sum to 1?\n",
    "print(probabilities.sum(dim=1))\n"
   ]
  },
  {
   "cell_type": "markdown",
   "metadata": {},
   "source": [
    "## Building networks with PyTorch\n",
    "\n",
    "PyTorch provides a module `nn` that makes building networks much simpler. Here I'll show you how to build the same one as above with 784 inputs, 256 hidden units, 10 output units and a softmax output."
   ]
  },
  {
   "cell_type": "code",
   "execution_count": 8,
   "metadata": {},
   "outputs": [],
   "source": [
    "from torch import nn"
   ]
  },
  {
   "cell_type": "code",
   "execution_count": 9,
   "metadata": {},
   "outputs": [],
   "source": [
    "class Network(nn.Module):\n",
    "    def __init__(self):\n",
    "        super().__init__()\n",
    "        \n",
    "        # Inputs to hidden layer linear transformation\n",
    "        self.hidden = nn.Linear(784, 256)\n",
    "        # Output layer, 10 units - one for each digit\n",
    "        self.output = nn.Linear(256, 10)\n",
    "        \n",
    "        # Define sigmoid activation and softmax output \n",
    "        self.sigmoid = nn.Sigmoid()\n",
    "        self.softmax = nn.Softmax(dim=1)\n",
    "        \n",
    "    def forward(self, x):\n",
    "        # Pass the input tensor through each of our operations\n",
    "        x = self.hidden(x)\n",
    "        x = self.sigmoid(x)\n",
    "        x = self.output(x)\n",
    "        x = self.softmax(x)\n",
    "        \n",
    "        return x"
   ]
  },
  {
   "cell_type": "markdown",
   "metadata": {},
   "source": [
    "Let's go through this bit by bit.\n",
    "\n",
    "```python\n",
    "class Network(nn.Module):\n",
    "```\n",
    "\n",
    "Here we're inheriting from `nn.Module`. Combined with `super().__init__()` this creates a class that tracks the architecture and provides a lot of useful methods and attributes. It is mandatory to inherit from `nn.Module` when you're creating a class for your network. The name of the class itself can be anything.\n",
    "\n",
    "```python\n",
    "self.hidden = nn.Linear(784, 256)\n",
    "```\n",
    "\n",
    "This line creates a module for a linear transformation, $x\\mathbf{W} + b$, with 784 inputs and 256 outputs and assigns it to `self.hidden`. The module automatically creates the weight and bias tensors which we'll use in the `forward` method. You can access the weight and bias tensors once the network (`net`) is created with `net.hidden.weight` and `net.hidden.bias`.\n",
    "\n",
    "```python\n",
    "self.output = nn.Linear(256, 10)\n",
    "```\n",
    "\n",
    "Similarly, this creates another linear transformation with 256 inputs and 10 outputs.\n",
    "\n",
    "```python\n",
    "self.sigmoid = nn.Sigmoid()\n",
    "self.softmax = nn.Softmax(dim=1)\n",
    "```\n",
    "\n",
    "Here I defined operations for the sigmoid activation and softmax output. Setting `dim=1` in `nn.Softmax(dim=1)` calculates softmax across the columns.\n",
    "\n",
    "```python\n",
    "def forward(self, x):\n",
    "```\n",
    "\n",
    "PyTorch networks created with `nn.Module` must have a `forward` method defined. It takes in a tensor `x` and passes it through the operations you defined in the `__init__` method.\n",
    "\n",
    "```python\n",
    "x = self.hidden(x)\n",
    "x = self.sigmoid(x)\n",
    "x = self.output(x)\n",
    "x = self.softmax(x)\n",
    "```\n",
    "\n",
    "Here the input tensor `x` is passed through each operation and reassigned to `x`. We can see that the input tensor goes through the hidden layer, then a sigmoid function, then the output layer, and finally the softmax function. It doesn't matter what you name the variables here, as long as the inputs and outputs of the operations match the network architecture you want to build. The order in which you define things in the `__init__` method doesn't matter, but you'll need to sequence the operations correctly in the `forward` method.\n",
    "\n",
    "Now we can create a `Network` object."
   ]
  },
  {
   "cell_type": "code",
   "execution_count": 10,
   "metadata": {},
   "outputs": [
    {
     "data": {
      "text/plain": [
       "Network(\n",
       "  (hidden): Linear(in_features=784, out_features=256, bias=True)\n",
       "  (output): Linear(in_features=256, out_features=10, bias=True)\n",
       "  (sigmoid): Sigmoid()\n",
       "  (softmax): Softmax(dim=1)\n",
       ")"
      ]
     },
     "execution_count": 10,
     "metadata": {},
     "output_type": "execute_result"
    }
   ],
   "source": [
    "# Create the network and look at it's text representation\n",
    "model = Network()\n",
    "model"
   ]
  },
  {
   "cell_type": "markdown",
   "metadata": {},
   "source": [
    "You can define the network somewhat more concisely and clearly using the `torch.nn.functional` module. This is the most common way you'll see networks defined as many operations are simple element-wise functions. We normally import this module as `F`, `import torch.nn.functional as F`."
   ]
  },
  {
   "cell_type": "code",
   "execution_count": 11,
   "metadata": {},
   "outputs": [],
   "source": [
    "import torch.nn.functional as F\n",
    "\n",
    "class Network(nn.Module):\n",
    "    def __init__(self):\n",
    "        super().__init__()\n",
    "        # Inputs to hidden layer linear transformation\n",
    "        self.hidden = nn.Linear(784, 256)\n",
    "        # Output layer, 10 units - one for each digit\n",
    "        self.output = nn.Linear(256, 10)\n",
    "        \n",
    "    def forward(self, x):\n",
    "        # Hidden layer with sigmoid activation\n",
    "        x = F.sigmoid(self.hidden(x))\n",
    "        # Output layer with softmax activation\n",
    "        x = F.softmax(self.output(x), dim=1)\n",
    "        \n",
    "        return x"
   ]
  },
  {
   "cell_type": "markdown",
   "metadata": {},
   "source": [
    "### Activation functions\n",
    "\n",
    "So far we've only been looking at the sigmoid activation function, but in general any function can be used as an activation function. The only requirement is that for a network to approximate a non-linear function, the activation functions must be non-linear. Here are a few more examples of common activation functions: Tanh (hyperbolic tangent), and ReLU (rectified linear unit).\n",
    "\n",
    "<img src=\"assets/activation.png\" width=700px>\n",
    "\n",
    "In practice, the ReLU function is used almost exclusively as the activation function for hidden layers."
   ]
  },
  {
   "cell_type": "markdown",
   "metadata": {},
   "source": [
    "### Your Turn to Build a Network\n",
    "\n",
    "<img src=\"assets/mlp_mnist.png\" width=600px>\n",
    "\n",
    "> **Exercise:** Create a network with 784 input units, a hidden layer with 128 units and a ReLU activation, then a hidden layer with 64 units and a ReLU activation, and finally an output layer with a softmax activation as shown above. You can use a ReLU activation with the `nn.ReLU` module or `F.relu` function.\n",
    "\n",
    "It's good practice to name your layers by their type of network, for instance 'fc' to represent a fully-connected layer. As you code your solution, use `fc1`, `fc2`, and `fc3` as your layer names."
   ]
  },
  {
   "cell_type": "code",
   "execution_count": null,
   "metadata": {
    "collapsed": true,
    "scrolled": true
   },
   "outputs": [],
   "source": [
    "## Your solution here\n",
    "class MyNetwork(nn.module):\n",
    "    super().__init__()\n",
    "    \n",
    "    self.fc1 = nn.Linear(784, 128)\n",
    "    self.fc2 = nn.Linear(128, 64)\n",
    "    sefl.fc3 = nn.Linear(64, 10)\n",
    "    \n",
    "    def forward(self, x):\n",
    "        x = F.relu(self.fc1(x))\n",
    "        x = F.relu(self.fc2(x))\n",
    "        x = F.softmax(self.fc3(x), dim = 1)\n",
    "        \n",
    "        return x"
   ]
  },
  {
   "cell_type": "markdown",
   "metadata": {},
   "source": [
    "### Initializing weights and biases\n",
    "\n",
    "The weights and such are automatically initialized for you, but it's possible to customize how they are initialized. The weights and biases are tensors attached to the layer you defined, you can get them with `model.fc1.weight` for instance."
   ]
  },
  {
   "cell_type": "code",
   "execution_count": null,
   "metadata": {
    "collapsed": true
   },
   "outputs": [],
   "source": [
    "print(model.fc1.weight)\n",
    "print(model.fc1.bias)"
   ]
  },
  {
   "cell_type": "markdown",
   "metadata": {},
   "source": [
    "For custom initialization, we want to modify these tensors in place. These are actually autograd *Variables*, so we need to get back the actual tensors with `model.fc1.weight.data`. Once we have the tensors, we can fill them with zeros (for biases) or random normal values."
   ]
  },
  {
   "cell_type": "code",
   "execution_count": null,
   "metadata": {
    "collapsed": true
   },
   "outputs": [],
   "source": [
    "# Set biases to all zeros\n",
    "model.fc1.bias.data.fill_(0)"
   ]
  },
  {
   "cell_type": "code",
   "execution_count": null,
   "metadata": {
    "collapsed": true
   },
   "outputs": [],
   "source": [
    "# sample from random normal with standard dev = 0.01\n",
    "model.fc1.weight.data.normal_(std=0.01)"
   ]
  },
  {
   "cell_type": "markdown",
   "metadata": {},
   "source": [
    "### Forward pass\n",
    "\n",
    "Now that we have a network, let's see what happens when we pass in an image."
   ]
  },
  {
   "cell_type": "code",
   "execution_count": null,
   "metadata": {
    "collapsed": true
   },
   "outputs": [],
   "source": [
    "# Grab some data \n",
    "dataiter = iter(trainloader)\n",
    "images, labels = dataiter.next()\n",
    "\n",
    "# Resize images into a 1D vector, new shape is (batch size, color channels, image pixels) \n",
    "images.resize_(64, 1, 784)\n",
    "# or images.resize_(images.shape[0], 1, 784) to automatically get batch size\n",
    "\n",
    "# Forward pass through the network\n",
    "img_idx = 0\n",
    "ps = model.forward(images[img_idx,:])\n",
    "\n",
    "img = images[img_idx]\n",
    "helper.view_classify(img.view(1, 28, 28), ps)"
   ]
  },
  {
   "cell_type": "markdown",
   "metadata": {},
   "source": [
    "As you can see above, our network has basically no idea what this digit is. It's because we haven't trained it yet, all the weights are random!\n",
    "\n",
    "### Using `nn.Sequential`\n",
    "\n",
    "PyTorch provides a convenient way to build networks like this where a tensor is passed sequentially through operations, `nn.Sequential` ([documentation](https://pytorch.org/docs/master/nn.html#torch.nn.Sequential)). Using this to build the equivalent network:"
   ]
  },
  {
   "cell_type": "code",
   "execution_count": null,
   "metadata": {
    "collapsed": true
   },
   "outputs": [],
   "source": [
    "# Hyperparameters for our network\n",
    "input_size = 784\n",
    "hidden_sizes = [128, 64]\n",
    "output_size = 10\n",
    "\n",
    "# Build a feed-forward network\n",
    "model = nn.Sequential(nn.Linear(input_size, hidden_sizes[0]),\n",
    "                      nn.ReLU(),\n",
    "                      nn.Linear(hidden_sizes[0], hidden_sizes[1]),\n",
    "                      nn.ReLU(),\n",
    "                      nn.Linear(hidden_sizes[1], output_size),\n",
    "                      nn.Softmax(dim=1))\n",
    "print(model)\n",
    "\n",
    "# Forward pass through the network and display output\n",
    "images, labels = next(iter(trainloader))\n",
    "images.resize_(images.shape[0], 1, 784)\n",
    "ps = model.forward(images[0,:])\n",
    "helper.view_classify(images[0].view(1, 28, 28), ps)"
   ]
  },
  {
   "cell_type": "markdown",
   "metadata": {},
   "source": [
    "Here our model is the same as before: 784 input units, a hidden layer with 128 units, ReLU activation, 64 unit hidden layer, another ReLU, then the output layer with 10 units, and the softmax output.\n",
    "\n",
    "The operations are available by passing in the appropriate index. For example, if you want to get first Linear operation and look at the weights, you'd use `model[0]`."
   ]
  },
  {
   "cell_type": "code",
   "execution_count": null,
   "metadata": {
    "collapsed": true
   },
   "outputs": [],
   "source": [
    "print(model[0])\n",
    "model[0].weight"
   ]
  },
  {
   "cell_type": "markdown",
   "metadata": {},
   "source": [
    "You can also pass in an `OrderedDict` to name the individual layers and operations, instead of using incremental integers. Note that dictionary keys must be unique, so _each operation must have a different name_."
   ]
  },
  {
   "cell_type": "code",
   "execution_count": null,
   "metadata": {
    "collapsed": true
   },
   "outputs": [],
   "source": [
    "from collections import OrderedDict\n",
    "model = nn.Sequential(OrderedDict([\n",
    "                      ('fc1', nn.Linear(input_size, hidden_sizes[0])),\n",
    "                      ('relu1', nn.ReLU()),\n",
    "                      ('fc2', nn.Linear(hidden_sizes[0], hidden_sizes[1])),\n",
    "                      ('relu2', nn.ReLU()),\n",
    "                      ('output', nn.Linear(hidden_sizes[1], output_size)),\n",
    "                      ('softmax', nn.Softmax(dim=1))]))\n",
    "model"
   ]
  },
  {
   "cell_type": "markdown",
   "metadata": {},
   "source": [
    "Now you can access layers either by integer or the name"
   ]
  },
  {
   "cell_type": "code",
   "execution_count": null,
   "metadata": {
    "collapsed": true
   },
   "outputs": [],
   "source": [
    "print(model[0])\n",
    "print(model.fc1)"
   ]
  },
  {
   "cell_type": "markdown",
   "metadata": {},
   "source": [
    "In the next notebook, we'll see how we can train a neural network to accuractly predict the numbers appearing in the MNIST images."
   ]
  }
 ],
 "metadata": {
  "kernelspec": {
   "display_name": "Python 3 (ipykernel)",
   "language": "python",
   "name": "python3"
  },
  "language_info": {
   "codemirror_mode": {
    "name": "ipython",
    "version": 3
   },
   "file_extension": ".py",
   "mimetype": "text/x-python",
   "name": "python",
   "nbconvert_exporter": "python",
   "pygments_lexer": "ipython3",
   "version": "3.9.12"
  }
 },
 "nbformat": 4,
 "nbformat_minor": 2
}
